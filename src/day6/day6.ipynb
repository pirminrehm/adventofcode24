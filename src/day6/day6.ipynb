{
 "cells": [
  {
   "cell_type": "code",
   "execution_count": 8,
   "metadata": {
    "collapsed": true
   },
   "outputs": [],
   "source": [
    "import numpy as np\n",
    "import re"
   ]
  },
  {
   "cell_type": "code",
   "execution_count": 9,
   "metadata": {},
   "outputs": [],
   "source": [
    "f = open(\"./input\", \"r\")\n",
    "lines = f.read().strip().splitlines()"
   ]
  },
  {
   "cell_type": "code",
   "execution_count": 10,
   "metadata": {},
   "outputs": [],
   "source": [
    "grid = np.array([[x for x in l] for l in lines])\n",
    "start = np.where(grid == \"^\")"
   ]
  },
  {
   "cell_type": "code",
   "execution_count": 11,
   "metadata": {},
   "outputs": [],
   "source": [
    "strategies = {\n",
    "    \"up\": {\"next\": \"right\", \"dir\": (-1, 0)},\n",
    "    \"right\": {\"next\": \"down\", \"dir\": (0, 1)},\n",
    "    \"down\": {\"next\": \"left\", \"dir\": (1, 0)},\n",
    "    \"left\": {\"next\": \"up\", \"dir\": (0, -1)},\n",
    "}"
   ]
  },
  {
   "cell_type": "code",
   "execution_count": 12,
   "metadata": {},
   "outputs": [],
   "source": [
    "def tadd(a,b):\n",
    "    return tuple(map(sum, zip(a, b)))"
   ]
  },
  {
   "cell_type": "code",
   "execution_count": 13,
   "metadata": {},
   "outputs": [
    {
     "data": {
      "text/plain": [
       "5086"
      ]
     },
     "execution_count": 13,
     "metadata": {},
     "output_type": "execute_result"
    }
   ],
   "source": [
    "c = (start[0][0], start[1][0])\n",
    "way = \"up\"\n",
    "visited = np.zeros(grid.shape, dtype=int)\n",
    "waypoints = []\n",
    "\n",
    "while True:\n",
    "    waypoints.append((c, way))\n",
    "    visited[c] = 1\n",
    "    next = tadd(c, strategies[way][\"dir\"])\n",
    "    if not (0 <= next[0] < len(grid) and 0 <= next[1] < len(grid[0])):\n",
    "        break\n",
    "    if grid[next] == \"#\":\n",
    "        way = strategies[way][\"next\"]\n",
    "    else:\n",
    "        c = tadd(c, strategies[way][\"dir\"])\n",
    "\n",
    "sum(sum(visited))"
   ]
  },
  {
   "cell_type": "code",
   "execution_count": 14,
   "metadata": {},
   "outputs": [
    {
     "name": "stderr",
     "output_type": "stream",
     "text": [
      "100%|██████████| 5680/5680 [00:24<00:00, 233.74it/s]\n"
     ]
    },
    {
     "data": {
      "text/plain": [
       "1770"
      ]
     },
     "execution_count": 14,
     "metadata": {},
     "output_type": "execute_result"
    }
   ],
   "source": [
    "from tqdm import tqdm\n",
    "\n",
    "obstacles = set()\n",
    "safe = set()\n",
    "for wi in tqdm(range(len(waypoints) - 1)):\n",
    "    o = waypoints[wi + 1][0]\n",
    "    c = waypoints[wi][0]\n",
    "    way = waypoints[wi][1]\n",
    "\n",
    "    vt = {\n",
    "        \"up\": np.zeros(grid.shape, dtype=int),\n",
    "        \"down\": np.zeros(grid.shape, dtype=int),\n",
    "        \"left\": np.zeros(grid.shape, dtype=int),\n",
    "        \"right\": np.zeros(grid.shape, dtype=int),\n",
    "    }\n",
    "    while True:\n",
    "        vt[way][c] = 1\n",
    "        next = tadd(c, strategies[way][\"dir\"])\n",
    "        if not (0 <= next[0] < len(grid) and 0 <= next[1] < len(grid[0])):\n",
    "            safe.add(o)\n",
    "            break\n",
    "\n",
    "        if grid[next] == \"#\" or next == o:\n",
    "            way = strategies[way][\"next\"]\n",
    "        else:\n",
    "            c = tadd(c, strategies[way][\"dir\"])\n",
    "\n",
    "        if vt[way][c]:\n",
    "            if o not in safe:\n",
    "                obstacles.add(o)\n",
    "            break\n",
    "        \n",
    "\n",
    "len(obstacles)"
   ]
  }
 ],
 "metadata": {
  "kernelspec": {
   "display_name": "Python 3",
   "language": "python",
   "name": "python3"
  },
  "language_info": {
   "codemirror_mode": {
    "name": "ipython",
    "version": 3
   },
   "file_extension": ".py",
   "mimetype": "text/x-python",
   "name": "python",
   "nbconvert_exporter": "python",
   "pygments_lexer": "ipython3",
   "version": "3.12.0"
  }
 },
 "nbformat": 4,
 "nbformat_minor": 2
}
