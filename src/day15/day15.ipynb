{
 "cells": [
  {
   "cell_type": "code",
   "execution_count": 972,
   "metadata": {
    "collapsed": true
   },
   "outputs": [],
   "source": [
    "import numpy as np\n",
    "import re"
   ]
  },
  {
   "cell_type": "code",
   "execution_count": 973,
   "metadata": {},
   "outputs": [],
   "source": [
    "f = open(\"./input\", \"r\")\n",
    "file = f.read().split(\"\\n\\n\")"
   ]
  },
  {
   "cell_type": "code",
   "execution_count": 975,
   "metadata": {},
   "outputs": [],
   "source": [
    "grid = np.array([[x for x in l] for l in file[0].splitlines()])\n",
    "moves = np.array([[x for x in l] for l in file[1].splitlines()])\n",
    "moves = moves.reshape((moves.shape[0]*moves.shape[1]))"
   ]
  },
  {
   "cell_type": "code",
   "execution_count": 976,
   "metadata": {},
   "outputs": [],
   "source": [
    "from operator import add, sub, mul\n",
    "def tsub(a, b):\n",
    "    return tuple(map(sub, a, b))\n",
    "def tadd(a, b):\n",
    "    return tuple(map(add, a, b))\n",
    "def tmul(a, b):\n",
    "    return tuple(map(mul, a, b))\n",
    "def print_grid(g):\n",
    "    print(\"\\n\".join([\"\".join(x) for x in g]), flush=True)"
   ]
  },
  {
   "cell_type": "code",
   "execution_count": 977,
   "metadata": {},
   "outputs": [],
   "source": [
    "start = tuple(zip(*np.where(grid == \"@\")))[0]\n",
    "obstacles = list(tuple(zip(*np.where(grid == \"#\"))))\n",
    "boxes = list(tuple(zip(*np.where(grid == \"O\"))))"
   ]
  },
  {
   "cell_type": "code",
   "execution_count": 978,
   "metadata": {},
   "outputs": [],
   "source": [
    "import bisect\n",
    "\n",
    "OPTIONS = [\"^\", \">\", \"v\", \"<\"]\n",
    "OPTIONS_I = {\"^\": 0, \">\": 1, \"v\": 2, \"<\": 3}\n",
    "STRATEGIES = {\"^\": (-1, 0), \">\": (0, 1), \"v\": (1, 0), \"<\": (0, -1)}\n",
    "\n",
    "o_map = [[[None, None, None, None] for y in range(grid.shape[1])] for x in range(grid.shape[0])]\n",
    "obstacle = np.where(grid == \"#\")\n",
    "o_rows = {key: [] for key in range(len(grid))}\n",
    "for i, o in enumerate(obstacle[0]):\n",
    "    o_rows[o].append(obstacle[1][i])\n",
    "o_cols = {key: [] for key in range(len(grid))}\n",
    "for i, o in enumerate(obstacle[1]):\n",
    "    o_cols[o].append(obstacle[0][i])\n",
    "next_o_strategy = {\n",
    "    \"^\": lambda curr: (o_cols[curr[1]][bisect.bisect_left(o_cols[curr[1]], curr[0]) - 1], curr[1]),\n",
    "    \">\": lambda curr: (curr[0], o_rows[curr[0]][bisect.bisect_right(o_rows[curr[0]], curr[1])]),\n",
    "    \"v\": lambda curr: (o_cols[curr[1]][bisect.bisect_right(o_cols[curr[1]], curr[0])], curr[1]),\n",
    "    \"<\": lambda curr: (curr[0], o_rows[curr[0]][bisect.bisect_left(o_rows[curr[0]], curr[1]) - 1]),\n",
    "}\n",
    "for xi in range(1, grid.shape[0] - 1):\n",
    "    for yi in range(1, grid.shape[1] - 1):\n",
    "        for oi, o in enumerate(OPTIONS):\n",
    "            o_map[xi][yi][oi] = next_o_strategy[o]((xi, yi))"
   ]
  },
  {
   "cell_type": "code",
   "execution_count": 979,
   "metadata": {},
   "outputs": [],
   "source": [
    "from copy import deepcopy\n",
    "c = start\n",
    "\n",
    "boxes_new = deepcopy(boxes)\n",
    "\n",
    "for direction in moves:\n",
    "    next_o = o_map[c[0]][c[1]][OPTIONS_I[direction]]\n",
    "    diff = tsub(next_o, c)\n",
    "    dim_stay = 0 if direction in [\"<\", \">\"] else 1\n",
    "    dim_move = abs(dim_stay - 1)\n",
    "    boxes_in_line = sorted((filter(lambda b: (b[dim_stay]) == (c[dim_stay]), boxes_new)), key=lambda x: x[dim_move])\n",
    "    boxes_affected = []\n",
    "    next_b = c\n",
    "    while True:\n",
    "        next_b = tadd(next_b, STRATEGIES[direction])\n",
    "        if next_b not in boxes_in_line:\n",
    "            break\n",
    "        boxes_affected.append(next_b)\n",
    "    space = abs(diff[dim_move]) - len(boxes_affected) - 1\n",
    "    if space == 0:\n",
    "        continue\n",
    "    # print(new_c)\n",
    "    for i, box in enumerate(boxes_affected):\n",
    "        bi = boxes_new.index(box)\n",
    "        boxes_new[bi] = tadd(box, STRATEGIES[direction])\n",
    "    c = tadd(c, STRATEGIES[direction])"
   ]
  },
  {
   "cell_type": "code",
   "execution_count": 980,
   "metadata": {},
   "outputs": [
    {
     "data": {
      "text/plain": [
       "1294459"
      ]
     },
     "execution_count": 980,
     "metadata": {},
     "output_type": "execute_result"
    }
   ],
   "source": [
    "part1 = 0\n",
    "for bx, by in boxes_new:\n",
    "    part1 += bx *100 + by\n",
    "part1"
   ]
  },
  {
   "cell_type": "code",
   "execution_count": 981,
   "metadata": {},
   "outputs": [],
   "source": [
    "g = np.array([[\".\" for y in range(grid.shape[0]*2)] for x in range(grid.shape[0])])\n",
    "for o in obstacles:\n",
    "    g[tmul(o, (1, 2))] = \"#\"\n",
    "    g[tadd(tmul(o, (1, 2)), (0,1))] = \"#\"\n",
    "for b in boxes:\n",
    "    g[tmul(b, (1, 2))] = \"[\"\n",
    "    g[tadd(tmul(b, (1, 2)), (0,1))] = \"]\"\n",
    "g[tmul(start, (1, 2))] = \"@\"\n",
    "s = tmul(start, (1, 2))"
   ]
  },
  {
   "cell_type": "code",
   "execution_count": 982,
   "metadata": {},
   "outputs": [],
   "source": [
    "import time \n",
    "from IPython.display import clear_output\n",
    "\n",
    "def check_expand(curr, dir):\n",
    "    n = tadd(curr, STRATEGIES[dir])\n",
    "    next_blocks = []\n",
    "    if g[n] == \"#\":\n",
    "        return [], True\n",
    "    if g[n] == \"[\":\n",
    "        next_blocks.append(n)\n",
    "        next_blocks.append(tadd(n, (0, 1)))\n",
    "    if g[n] == \"]\":\n",
    "        next_blocks.append(n)\n",
    "        next_blocks.append(tadd(n, (0, -1)))\n",
    "    all_blocks = []\n",
    "    for block in next_blocks:\n",
    "        new_blocks, is_blocked = check_expand(block, dir)\n",
    "        if is_blocked:\n",
    "            return [], is_blocked\n",
    "        all_blocks.append(block)\n",
    "        all_blocks += new_blocks\n",
    "    return all_blocks, False\n",
    "\n",
    "\n",
    "c = s\n",
    "for direction in moves:\n",
    "    affected_boxes = []\n",
    "    is_blocked = False\n",
    "    if direction in [\"<\", \">\"]:\n",
    "        dim_stay = 0\n",
    "        dim_move = 1\n",
    "        check = c\n",
    "        while True:\n",
    "            check = tadd(check, STRATEGIES[direction])\n",
    "            if g[check] in [\"[\", \"]\"]:\n",
    "                affected_boxes.append(check)\n",
    "                continue\n",
    "            if g[check] == \"#\":\n",
    "                is_blocked = True\n",
    "            break\n",
    "    else:  # ^ v\n",
    "        affected_boxes, is_blocked = check_expand(c, direction)\n",
    "\n",
    "    if is_blocked:\n",
    "        continue\n",
    "    box_values = [g[b] for b in affected_boxes]\n",
    "    for box in affected_boxes:\n",
    "        g[box] = \".\"\n",
    "    for bi, box in enumerate(affected_boxes):\n",
    "        g[tadd(box, STRATEGIES[direction])] = box_values[bi]\n",
    "\n",
    "    g[c] = \".\"\n",
    "    c = tadd(c, STRATEGIES[direction])\n",
    "    g[c] = \"@\"\n",
    "\n",
    "    # clear_output(wait=True)\n",
    "    # print_grid(g)\n",
    "    # time.sleep(0.07)"
   ]
  },
  {
   "cell_type": "code",
   "execution_count": 983,
   "metadata": {},
   "outputs": [
    {
     "data": {
      "text/plain": [
       "1319212"
      ]
     },
     "execution_count": 983,
     "metadata": {},
     "output_type": "execute_result"
    }
   ],
   "source": [
    "part2 = 0\n",
    "for x in range(g.shape[0]):\n",
    "    for y in range(g.shape[1]):\n",
    "        if g[(x,y)] == \"[\":\n",
    "            part2 += x *100 + y\n",
    "part2"
   ]
  }
 ],
 "metadata": {
  "kernelspec": {
   "display_name": "Python 3",
   "language": "python",
   "name": "python3"
  },
  "language_info": {
   "codemirror_mode": {
    "name": "ipython",
    "version": 3
   },
   "file_extension": ".py",
   "mimetype": "text/x-python",
   "name": "python",
   "nbconvert_exporter": "python",
   "pygments_lexer": "ipython3",
   "version": "3.12.0"
  }
 },
 "nbformat": 4,
 "nbformat_minor": 2
}
