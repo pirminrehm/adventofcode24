{
 "cells": [
  {
   "cell_type": "code",
   "execution_count": 1,
   "metadata": {
    "collapsed": true
   },
   "outputs": [],
   "source": [
    "import numpy as np\n",
    "import re"
   ]
  },
  {
   "cell_type": "code",
   "execution_count": 2,
   "metadata": {},
   "outputs": [],
   "source": [
    "f = open(\"./input\", \"r\")\n",
    "lines = f.read().strip().splitlines()"
   ]
  },
  {
   "cell_type": "code",
   "execution_count": 3,
   "metadata": {},
   "outputs": [
    {
     "data": {
      "text/plain": [
       "6216544403458"
      ]
     },
     "execution_count": 3,
     "metadata": {},
     "output_type": "execute_result"
    }
   ],
   "source": [
    "from collections import deque\n",
    "\n",
    "dmap = deque([int(x) for x in lines[0]])\n",
    "mem = deque([])\n",
    "idx = deque(range(int((len(dmap)) / 2 + 1)))\n",
    "\n",
    "stack = []\n",
    "li = idx.pop()\n",
    "for f in range(dmap.pop()):\n",
    "    stack.append(li)\n",
    "\n",
    "while dmap:\n",
    "    file = dmap.popleft()\n",
    "    i = idx.popleft()\n",
    "    for _ in range(file):\n",
    "        mem.append(i)\n",
    "\n",
    "    if not dmap:\n",
    "        break\n",
    "\n",
    "    free = dmap.popleft()\n",
    "    for _ in range(free):\n",
    "        if len(stack) == 0:\n",
    "            li = idx.pop()\n",
    "            dmap.pop()  # remove empty\n",
    "            for f in range(dmap.pop()):\n",
    "                stack.append(li)\n",
    "\n",
    "        i = stack.pop()\n",
    "        mem.append(i)\n",
    "\n",
    "for i in stack:  # cleanup stack\n",
    "    mem.append(i)\n",
    "\n",
    "part1 = 0\n",
    "\n",
    "for i in range(len(mem)):\n",
    "    part1 += i * mem[i]\n",
    "part1"
   ]
  },
  {
   "cell_type": "code",
   "execution_count": 4,
   "metadata": {},
   "outputs": [
    {
     "data": {
      "text/plain": [
       "6237075041489"
      ]
     },
     "execution_count": 4,
     "metadata": {},
     "output_type": "execute_result"
    }
   ],
   "source": [
    "mem2 = [\".\"] * sum([int(x) for x in lines[0]])\n",
    "dmap2 = [int(x) for x in lines[0]]\n",
    "spaces = dmap2[1::2]\n",
    "offset = np.zeros(len(spaces), dtype=int)\n",
    "files = dmap2[::2]\n",
    "\n",
    "for i in range(len(dmap2) - 1, -1, -2):\n",
    "    found = np.where(np.array(spaces[: int(i / 2)]) >= dmap2[i])[0]\n",
    "    fi = i\n",
    "    o = 0\n",
    "    if len(found) != 0:\n",
    "        fi = found[0] * 2 + 1  # move\n",
    "        spaces[found[0]] -= dmap2[i]\n",
    "        o = offset[found[0]]\n",
    "        offset[found[0]] += dmap2[i]\n",
    "    before = sum(dmap2[:fi]) + o\n",
    "    for x in range(dmap2[i]):\n",
    "        mem2[before + x] = str(int(i / 2))\n",
    "\n",
    "part2 = 0\n",
    "for i in range(len(mem2)):\n",
    "    if mem2[i] == \".\":\n",
    "        continue\n",
    "    part2 += i * int(mem2[i])\n",
    "part2"
   ]
  }
 ],
 "metadata": {
  "kernelspec": {
   "display_name": "pyenv",
   "language": "python",
   "name": "python3"
  },
  "language_info": {
   "codemirror_mode": {
    "name": "ipython",
    "version": 3
   },
   "file_extension": ".py",
   "mimetype": "text/x-python",
   "name": "python",
   "nbconvert_exporter": "python",
   "pygments_lexer": "ipython3",
   "version": "3.13.1"
  }
 },
 "nbformat": 4,
 "nbformat_minor": 2
}
