{
 "cells": [
  {
   "cell_type": "code",
   "execution_count": 80,
   "metadata": {
    "collapsed": true
   },
   "outputs": [],
   "source": [
    "import numpy as np\n",
    "import re"
   ]
  },
  {
   "cell_type": "code",
   "execution_count": 81,
   "metadata": {},
   "outputs": [],
   "source": [
    "f = open(\"./input\", \"r\")\n",
    "lines = f.read().strip().splitlines()"
   ]
  },
  {
   "cell_type": "code",
   "execution_count": 83,
   "metadata": {},
   "outputs": [
    {
     "data": {
      "text/plain": [
       "6216544403458"
      ]
     },
     "execution_count": 83,
     "metadata": {},
     "output_type": "execute_result"
    }
   ],
   "source": [
    "from collections import deque\n",
    "\n",
    "dmap = deque([int(x) for x in lines[0]])\n",
    "mem = deque([])\n",
    "idx = deque(range(int((len(dmap)) / 2 + 1)))\n",
    "\n",
    "stack = []\n",
    "li = idx.pop()\n",
    "for f in range(dmap.pop()):\n",
    "    stack.append(li)\n",
    "\n",
    "while dmap:\n",
    "    file = dmap.popleft()\n",
    "    i = idx.popleft()\n",
    "    for _ in range(file):\n",
    "        mem.append(i)\n",
    "\n",
    "    if not dmap:\n",
    "        break\n",
    "\n",
    "    free = dmap.popleft()\n",
    "    for _ in range(free):\n",
    "        if len(stack) == 0:\n",
    "            li = idx.pop()\n",
    "            dmap.pop() # remove empty\n",
    "            for f in range(dmap.pop()):\n",
    "                stack.append(li)\n",
    "\n",
    "        i = stack.pop()\n",
    "        mem.append(i)\n",
    "\n",
    "for i in stack: # cleanup stack\n",
    "    mem.append(i)\n",
    "\n",
    "part1 = 0\n",
    "\n",
    "for i in range(len(mem)):\n",
    "    part1 += i * mem[i]\n",
    "part1"
   ]
  }
 ],
 "metadata": {
  "kernelspec": {
   "display_name": "Python 3",
   "language": "python",
   "name": "python3"
  },
  "language_info": {
   "codemirror_mode": {
    "name": "ipython",
    "version": 3
   },
   "file_extension": ".py",
   "mimetype": "text/x-python",
   "name": "python",
   "nbconvert_exporter": "python",
   "pygments_lexer": "ipython3",
   "version": "3.12.0"
  }
 },
 "nbformat": 4,
 "nbformat_minor": 2
}
