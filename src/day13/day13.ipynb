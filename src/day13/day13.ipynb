{
 "cells": [
  {
   "cell_type": "code",
   "execution_count": 16,
   "metadata": {},
   "outputs": [],
   "source": [
    "import numpy as np\n",
    "import re"
   ]
  },
  {
   "cell_type": "code",
   "execution_count": 17,
   "metadata": {},
   "outputs": [],
   "source": [
    "f = open(\"./input\", \"r\")\n",
    "lines = f.read().strip().splitlines()"
   ]
  },
  {
   "cell_type": "code",
   "execution_count": 18,
   "metadata": {},
   "outputs": [],
   "source": [
    "games = []\n",
    "find_nums = lambda x: [int(x) for x in re.findall(r\"\\d+\", x)]\n",
    "for li in range(0, len(lines), 4):\n",
    "    games.append({\"A\": find_nums(lines[li]), \"B\": find_nums(lines[li + 1]), \"P\": find_nums(lines[li + 2])})"
   ]
  },
  {
   "cell_type": "code",
   "execution_count": 19,
   "metadata": {},
   "outputs": [
    {
     "data": {
      "text/plain": [
       "29877"
      ]
     },
     "execution_count": 19,
     "metadata": {},
     "output_type": "execute_result"
    }
   ],
   "source": [
    "part1 = 0\n",
    "for g in games:\n",
    "    ax, ay = g[\"A\"]\n",
    "    bx, by  = g[\"B\"]\n",
    "    px, py = g[\"P\"]\n",
    "    # ma * ax = px - bx * mb\n",
    "    # ma * ay = py - by * mb\n",
    "    # ma = (px - bx * mb) / ax\n",
    "    # ma = (py - by * mb) / ay\n",
    "    # (px - bx * mb) / ax = (py - by * mb) / ay\n",
    "    # px/ax - bx/ax * mb/ax = py/ay - by/ay * mb/ay\n",
    "    # px/ax - py/ay  =  mb * (-by/ay + bx/ax)\n",
    "    # mb = (px/ax - py/ay) / (-by/ay + bx/ax)\n",
    "    mb = round((px / ax - py / ay) / (-by / ay + bx / ax))\n",
    "    ma = round((py - by * mb) / ay)\n",
    "    if (ma * ax + mb * bx) == px and (ma * ay + mb * by) == py:\n",
    "        part1 += ma * 3 + mb\n",
    "\n",
    "part1"
   ]
  },
  {
   "cell_type": "code",
   "execution_count": 20,
   "metadata": {},
   "outputs": [
    {
     "data": {
      "text/plain": [
       "99423413811305"
      ]
     },
     "execution_count": 20,
     "metadata": {},
     "output_type": "execute_result"
    }
   ],
   "source": [
    "part2 = 0\n",
    "for g in games:\n",
    "    ax, ay = g[\"A\"]\n",
    "    bx, by  = g[\"B\"]\n",
    "    px = g[\"P\"][0] + 10000000000000\n",
    "    py = g[\"P\"][1] + 10000000000000\n",
    "    mb = round((px / ax - py / ay) / (-by / ay + bx / ax))\n",
    "    ma = round((py - by * mb) / ay)\n",
    "    if (ma * ax + mb * bx) == px and (ma * ay + mb * by) == py:\n",
    "        part2 += ma * 3 + mb\n",
    "\n",
    "part2"
   ]
  }
 ],
 "metadata": {
  "kernelspec": {
   "display_name": "pyenv",
   "language": "python",
   "name": "python3"
  },
  "language_info": {
   "codemirror_mode": {
    "name": "ipython",
    "version": 3
   },
   "file_extension": ".py",
   "mimetype": "text/x-python",
   "name": "python",
   "nbconvert_exporter": "python",
   "pygments_lexer": "ipython3",
   "version": "3.13.1"
  }
 },
 "nbformat": 4,
 "nbformat_minor": 2
}
