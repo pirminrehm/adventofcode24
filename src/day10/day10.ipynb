{
 "cells": [
  {
   "cell_type": "code",
   "execution_count": 1,
   "metadata": {
    "collapsed": true
   },
   "outputs": [],
   "source": [
    "import numpy as np\n",
    "import re"
   ]
  },
  {
   "cell_type": "code",
   "execution_count": 2,
   "metadata": {},
   "outputs": [],
   "source": [
    "f = open(\"./input\", \"r\")\n",
    "lines = f.read().strip().splitlines()"
   ]
  },
  {
   "cell_type": "code",
   "execution_count": 4,
   "metadata": {},
   "outputs": [],
   "source": [
    "grid = np.array([[int(x) for x in l] for l in lines])\n",
    "zeros = [tuple(x.tolist()) for x in np.transpose(np.where(grid == 0))]"
   ]
  },
  {
   "cell_type": "code",
   "execution_count": 5,
   "metadata": {},
   "outputs": [],
   "source": [
    "def tadd(a,b):\n",
    "    return tuple(map(sum, zip(a, b)))\n",
    "\n",
    "def explore(c):\n",
    "    valid =[]\n",
    "    for d in [tadd(c,x) for x in [(0,1), (0,-1), (1,0), (-1,0)]]:\n",
    "        if 0 <= d[0] < grid.shape[0] and 0 <= d[1] < grid.shape[1]:\n",
    "            if grid[d] == grid[c] +1:\n",
    "                valid.append(d)\n",
    "         \n",
    "    return valid\n",
    "\n"
   ]
  },
  {
   "cell_type": "code",
   "execution_count": 6,
   "metadata": {},
   "outputs": [],
   "source": [
    "def expand(current, visit_map, value_map):\n",
    "    if visit_map[current] == 1:\n",
    "        return 0\n",
    "    if grid[current] == 9:\n",
    "        visit_map[current] = 1\n",
    "        value_map[current] = 1\n",
    "        return 1\n",
    "    \n",
    "    childs = explore(current)\n",
    "    trails = 0\n",
    "    for child in childs:\n",
    "        trails += expand(child, visit_map, value_map)\n",
    "    visit_map[current] = 1\n",
    "    value_map[current] = trails\n",
    "    return trails"
   ]
  },
  {
   "cell_type": "code",
   "execution_count": 7,
   "metadata": {},
   "outputs": [
    {
     "data": {
      "text/plain": [
       "531"
      ]
     },
     "execution_count": 7,
     "metadata": {},
     "output_type": "execute_result"
    }
   ],
   "source": [
    "part1 = 0\n",
    "for z in zeros:\n",
    "    visited = np.zeros(grid.shape, dtype=int)\n",
    "    values = np.zeros(grid.shape, dtype=int)\n",
    "    part1 += expand(z, visited, values)\n",
    "part1"
   ]
  },
  {
   "cell_type": "code",
   "execution_count": 8,
   "metadata": {},
   "outputs": [],
   "source": [
    "def expand2(current, value_map):\n",
    "    if grid[current] == 9:\n",
    "        value_map[current] = 1\n",
    "        return 1\n",
    "    \n",
    "    childs = explore(current)\n",
    "    trails = 0\n",
    "    for child in childs:\n",
    "        trails += expand2(child, value_map)\n",
    "    value_map[current] = trails\n",
    "    return trails"
   ]
  },
  {
   "cell_type": "code",
   "execution_count": 9,
   "metadata": {},
   "outputs": [
    {
     "data": {
      "text/plain": [
       "1210"
      ]
     },
     "execution_count": 9,
     "metadata": {},
     "output_type": "execute_result"
    }
   ],
   "source": [
    "part2 = 0\n",
    "for z in zeros:\n",
    "    values = np.zeros(grid.shape, dtype=int)\n",
    "    part2 += expand2(z, values)\n",
    "part2"
   ]
  }
 ],
 "metadata": {
  "kernelspec": {
   "display_name": "pyenv",
   "language": "python",
   "name": "python3"
  },
  "language_info": {
   "codemirror_mode": {
    "name": "ipython",
    "version": 3
   },
   "file_extension": ".py",
   "mimetype": "text/x-python",
   "name": "python",
   "nbconvert_exporter": "python",
   "pygments_lexer": "ipython3",
   "version": "3.13.1"
  }
 },
 "nbformat": 4,
 "nbformat_minor": 2
}
