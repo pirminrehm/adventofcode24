{
 "cells": [
  {
   "cell_type": "code",
   "execution_count": 1,
   "metadata": {
    "collapsed": true
   },
   "outputs": [],
   "source": [
    "import numpy as np\n",
    "import re"
   ]
  },
  {
   "cell_type": "code",
   "execution_count": 2,
   "metadata": {},
   "outputs": [],
   "source": [
    "f = open(\"./input\", \"r\")\n",
    "lines = f.read().strip().splitlines()"
   ]
  },
  {
   "cell_type": "code",
   "execution_count": 3,
   "metadata": {},
   "outputs": [],
   "source": [
    "from functools import cache\n",
    "\n",
    "@cache\n",
    "def expand(num, depth):\n",
    "    if depth == 0:\n",
    "        return 1\n",
    "    numstr = str(num)\n",
    "    l = len(numstr)\n",
    "    if l % 2 == 0:\n",
    "        left = expand(int(numstr[: int(l / 2)]), depth - 1)\n",
    "        right = expand(int(numstr[int(l / 2) :]), depth - 1)\n",
    "        return left + right\n",
    "    if num == 0:\n",
    "        return expand(1, depth - 1)\n",
    "    return expand(num * 2024, depth - 1)"
   ]
  },
  {
   "cell_type": "code",
   "execution_count": 4,
   "metadata": {},
   "outputs": [
    {
     "data": {
      "text/plain": [
       "203228"
      ]
     },
     "execution_count": 4,
     "metadata": {},
     "output_type": "execute_result"
    }
   ],
   "source": [
    "part1 = 0\n",
    "nums = [int(x) for x in lines[0].split(\" \")]\n",
    "for num in nums:\n",
    "    part1 += expand(num, 25)\n",
    "part1"
   ]
  },
  {
   "cell_type": "code",
   "execution_count": 5,
   "metadata": {},
   "outputs": [
    {
     "data": {
      "text/plain": [
       "240884656550923"
      ]
     },
     "execution_count": 5,
     "metadata": {},
     "output_type": "execute_result"
    }
   ],
   "source": [
    "part2 = 0\n",
    "nums = [int(x) for x in lines[0].split(\" \")]\n",
    "for num in nums:\n",
    "    part2 += expand(num, 75)\n",
    "part2"
   ]
  }
 ],
 "metadata": {
  "kernelspec": {
   "display_name": "pyenv",
   "language": "python",
   "name": "python3"
  },
  "language_info": {
   "codemirror_mode": {
    "name": "ipython",
    "version": 3
   },
   "file_extension": ".py",
   "mimetype": "text/x-python",
   "name": "python",
   "nbconvert_exporter": "python",
   "pygments_lexer": "ipython3",
   "version": "3.13.1"
  }
 },
 "nbformat": 4,
 "nbformat_minor": 2
}
