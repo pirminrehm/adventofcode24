{
 "cells": [
  {
   "cell_type": "code",
   "execution_count": 1,
   "metadata": {
    "collapsed": true
   },
   "outputs": [],
   "source": [
    "import numpy as np\n",
    "import re"
   ]
  },
  {
   "cell_type": "code",
   "execution_count": 2,
   "metadata": {},
   "outputs": [],
   "source": [
    "f = open(\"./input\", \"r\")\n",
    "lines = f.read().strip().splitlines()"
   ]
  },
  {
   "cell_type": "code",
   "execution_count": 3,
   "metadata": {},
   "outputs": [],
   "source": [
    "grid = np.array([[x for x in l] for l in lines])"
   ]
  },
  {
   "cell_type": "code",
   "execution_count": 4,
   "metadata": {},
   "outputs": [],
   "source": [
    "from operator import add, sub\n",
    "def tsub(a,b):\n",
    "    return tuple(map(sub, a, b))\n",
    "def tadd(a,b):\n",
    "    return tuple(map(add, a, b))"
   ]
  },
  {
   "cell_type": "code",
   "execution_count": 5,
   "metadata": {},
   "outputs": [
    {
     "data": {
      "text/plain": [
       "1421958"
      ]
     },
     "execution_count": 5,
     "metadata": {},
     "output_type": "execute_result"
    }
   ],
   "source": [
    "from collections import deque\n",
    "\n",
    "gardens = []\n",
    "points = deque([(x, y) for y in range(grid.shape[1]) for x in range(grid.shape[0])])\n",
    "\n",
    "\n",
    "def explore_garden(c):\n",
    "    garden = [c]\n",
    "    for np in [tadd(c, x) for x in [(0, 1), (0, -1), (1, 0), (-1, 0)]]:\n",
    "        # in_bounds = (0 <= np[0] < grid.shape[0] and 0 <= np[1] < grid.shape[1])\n",
    "        if not np in points or not grid[np] == grid[c]:\n",
    "            continue\n",
    "        points.remove(np)\n",
    "        garden += explore_garden(np)\n",
    "    return garden\n",
    "\n",
    "\n",
    "while len(points):\n",
    "    gardens.append(explore_garden(points.popleft()))\n",
    "\n",
    "part1 = 0\n",
    "for garden in gardens:\n",
    "    fences = 0\n",
    "    for p in garden:\n",
    "        for np in [tadd(p, x) for x in [(0, 1), (0, -1), (1, 0), (-1, 0)]]:\n",
    "            if not np in garden:\n",
    "                fences += 1\n",
    "    part1 += fences * len(garden)\n",
    "part1"
   ]
  },
  {
   "cell_type": "code",
   "execution_count": 6,
   "metadata": {},
   "outputs": [],
   "source": [
    "walk = {\n",
    "    \"down\": [\n",
    "        # outside move, inside move, next, count edge?\n",
    "        ((1, 0), (1, 0), \"down\", False),\n",
    "        ((1, 1), (0, 0), \"right\", True),\n",
    "        ((0, 0), (1, -1), \"left\", True),\n",
    "    ],\n",
    "    \"left\": [\n",
    "        ((0, -1), (0, -1), \"left\", False),\n",
    "        ((1, -1), (0, 0), \"down\", True),\n",
    "        ((0, 0), (-1, -1), \"up\", True),\n",
    "    ],\n",
    "    \"up\": [\n",
    "        ((-1, 0), (-1, 0), \"up\", False),\n",
    "        ((-1, -1), (0, 0), \"left\", True),\n",
    "        ((0, 0), (-1, 1), \"right\", True),\n",
    "    ],\n",
    "    \"right\": [\n",
    "        ((0, 1), (0, 1), \"right\", False),\n",
    "        ((-1, 1), (0, 0), \"up\", True),\n",
    "        ((0, 0), (1, 1), \"down\", True),\n",
    "    ],\n",
    "}"
   ]
  },
  {
   "cell_type": "code",
   "execution_count": 7,
   "metadata": {},
   "outputs": [
    {
     "name": "stdout",
     "output_type": "stream",
     "text": [
      "1421958\n",
      "885394\n"
     ]
    }
   ],
   "source": [
    "part1 = []\n",
    "part2 = []\n",
    "for garden in gardens:\n",
    "    visited = deque()\n",
    "    edges = 0\n",
    "    fences = 0\n",
    "\n",
    "    for point in garden:\n",
    "        start_inner = point\n",
    "        start_outer = None\n",
    "        next = None\n",
    "        directions = [((0, -1), \"down\"), ((1, 0), \"right\"), ((-1, 0), \"left\"), ((0, 1), \"up\")]\n",
    "        for np, n in [(tadd(start_inner, x), n) for x, n in directions]:\n",
    "            if np not in garden and not (*start_inner, *np) in visited:\n",
    "                start_outer = np\n",
    "                next = n\n",
    "                break\n",
    "        else:\n",
    "            continue\n",
    "\n",
    "        inner = start_inner\n",
    "        outer = start_outer\n",
    "\n",
    "        while True:\n",
    "            for o, i, n, c in walk[next]:\n",
    "                ni = tadd(inner, i)\n",
    "                no = tadd(outer, o)\n",
    "                if ni in garden and not no in garden:\n",
    "                    fences += 1\n",
    "                    edges += 1 if c else 0\n",
    "                    inner, outer, next = ni, no, n\n",
    "                    visited.append(tuple((*inner, *outer)))\n",
    "                    break\n",
    "            else:\n",
    "                raise ValueError(\"did not found next\", garden)\n",
    "            if inner == start_inner and outer == start_outer:\n",
    "                break\n",
    "    part1.append(fences * len(garden))\n",
    "    part2.append(edges * len(garden))\n",
    "print(sum(part1))\n",
    "print(sum(part2))"
   ]
  }
 ],
 "metadata": {
  "kernelspec": {
   "display_name": "pyenv",
   "language": "python",
   "name": "python3"
  },
  "language_info": {
   "codemirror_mode": {
    "name": "ipython",
    "version": 3
   },
   "file_extension": ".py",
   "mimetype": "text/x-python",
   "name": "python",
   "nbconvert_exporter": "python",
   "pygments_lexer": "ipython3",
   "version": "3.13.1"
  }
 },
 "nbformat": 4,
 "nbformat_minor": 2
}
