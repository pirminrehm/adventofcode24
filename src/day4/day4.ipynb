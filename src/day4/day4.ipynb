{
 "cells": [
  {
   "cell_type": "code",
   "execution_count": null,
   "metadata": {
    "collapsed": true
   },
   "outputs": [],
   "source": [
    "import numpy as np\n",
    "import re"
   ]
  },
  {
   "cell_type": "code",
   "execution_count": 2,
   "metadata": {},
   "outputs": [],
   "source": [
    "f = open(\"./input\", \"r\")\n",
    "lines = f.read().strip().splitlines()"
   ]
  },
  {
   "cell_type": "code",
   "execution_count": 3,
   "metadata": {},
   "outputs": [],
   "source": [
    "world = np.array([[w for w in l] for l in lines])\n",
    "world_h = world.T\n",
    "world_rev = np.fliplr(world).tolist()\n",
    "world_h_rev = np.fliplr(world_h).tolist()\n",
    "diag_lr = [list(np.diag(world, i)) for i in range(-world.shape[0] + 4, world.shape[0] - 4)]\n",
    "diag_lr_rev = [l[::-1] for l in diag_lr]\n",
    "diag_rl = [list(np.diag(world_rev, i)) for i in range(-world.shape[0] + 4, world.shape[0] - 4)]\n",
    "diag_rl_rev = [l[::-1] for l in diag_rl]\n",
    "world = world.tolist()\n",
    "world_h = world_h.tolist()\n",
    "\n",
    "all_worlds = world + world_h + world_rev + world_h_rev + diag_lr + diag_lr_rev + diag_rl + diag_rl_rev\n",
    "all_worlds_s = [\"\".join(l) for l in all_worlds]"
   ]
  },
  {
   "cell_type": "code",
   "execution_count": 4,
   "metadata": {},
   "outputs": [
    {
     "data": {
      "text/plain": [
       "2591"
      ]
     },
     "execution_count": 4,
     "metadata": {},
     "output_type": "execute_result"
    }
   ],
   "source": [
    "part1 = 0\n",
    "for l in all_worlds_s:\n",
    "    part1 += len(re.findall(\"XMAS\", l))\n",
    "part1"
   ]
  },
  {
   "cell_type": "code",
   "execution_count": 5,
   "metadata": {},
   "outputs": [
    {
     "data": {
      "text/plain": [
       "1880"
      ]
     },
     "execution_count": 5,
     "metadata": {},
     "output_type": "execute_result"
    }
   ],
   "source": [
    "part2 = 0\n",
    "w2 = [world, world_h, world[::-1], world_h[::-1]]\n",
    "for w in w2:\n",
    "    for ri in range(1, len(w) - 1):\n",
    "        for ci in range(1, len(w[ri]) - 1):\n",
    "            if (\n",
    "                w[ri][ci] == \"A\"\n",
    "                and w[ri - 1][ci - 1] == \"M\"\n",
    "                and w[ri - 1][ci + 1] == \"M\"\n",
    "                and w[ri + 1][ci - 1] == \"S\"\n",
    "                and w[ri + 1][ci + 1] == \"S\"\n",
    "            ):\n",
    "                part2 += 1\n",
    "part2"
   ]
  }
 ],
 "metadata": {
  "kernelspec": {
   "display_name": "Python 3",
   "language": "python",
   "name": "python3"
  },
  "language_info": {
   "codemirror_mode": {
    "name": "ipython",
    "version": 3
   },
   "file_extension": ".py",
   "mimetype": "text/x-python",
   "name": "python",
   "nbconvert_exporter": "python",
   "pygments_lexer": "ipython3",
   "version": "3.12.0"
  }
 },
 "nbformat": 4,
 "nbformat_minor": 2
}
