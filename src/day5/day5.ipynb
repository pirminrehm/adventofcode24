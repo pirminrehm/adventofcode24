{
 "cells": [
  {
   "cell_type": "code",
   "execution_count": 11,
   "metadata": {
    "collapsed": true
   },
   "outputs": [],
   "source": [
    "import numpy as np\n",
    "import re"
   ]
  },
  {
   "cell_type": "code",
   "execution_count": 12,
   "metadata": {},
   "outputs": [],
   "source": [
    "f = open(\"./input\", \"r\")\n",
    "input = f.read().split(\"\\n\\n\")"
   ]
  },
  {
   "cell_type": "code",
   "execution_count": 13,
   "metadata": {},
   "outputs": [],
   "source": [
    "rules = set([tuple([int(x) for x in r.split(\"|\")]) for r in input[0].splitlines()])\n",
    "updates = [[int(x) for x in u.split(\",\")] for u in input[1].splitlines()]"
   ]
  },
  {
   "cell_type": "code",
   "execution_count": 14,
   "metadata": {},
   "outputs": [
    {
     "data": {
      "text/plain": [
       "7024"
      ]
     },
     "execution_count": 14,
     "metadata": {},
     "output_type": "execute_result"
    }
   ],
   "source": [
    "from itertools import combinations\n",
    "\n",
    "part1 = 0\n",
    "for u in updates:\n",
    "    for c in list(combinations(u[::-1], 2)):\n",
    "        if c in rules:\n",
    "            break\n",
    "    else:\n",
    "        part1 += u[int((len(u) - 1) / 2)]\n",
    "        continue\n",
    "\n",
    "part1"
   ]
  },
  {
   "cell_type": "code",
   "execution_count": 15,
   "metadata": {},
   "outputs": [
    {
     "data": {
      "text/plain": [
       "4151"
      ]
     },
     "execution_count": 15,
     "metadata": {},
     "output_type": "execute_result"
    }
   ],
   "source": [
    "import copy\n",
    "\n",
    "updates_mod = copy.deepcopy(updates)\n",
    "mod = True\n",
    "incorrect = set()\n",
    "while mod is True:\n",
    "    mod = False\n",
    "    for i,u in enumerate(updates_mod):\n",
    "        for c in list(combinations(u[::-1], 2)):\n",
    "            if c in rules:\n",
    "                u.insert(u.index(c[1]), u.pop(u.index(c[0])))\n",
    "                mod = True\n",
    "                incorrect.add(i)\n",
    "            \n",
    "part2 = 0\n",
    "for i,u in enumerate(updates_mod):\n",
    "    if i in incorrect:\n",
    "        part2 += u[int((len(u) - 1) / 2)]\n",
    "\n",
    "part2"
   ]
  }
 ],
 "metadata": {
  "kernelspec": {
   "display_name": "pyenv",
   "language": "python",
   "name": "python3"
  },
  "language_info": {
   "codemirror_mode": {
    "name": "ipython",
    "version": 3
   },
   "file_extension": ".py",
   "mimetype": "text/x-python",
   "name": "python",
   "nbconvert_exporter": "python",
   "pygments_lexer": "ipython3",
   "version": "3.13.0"
  }
 },
 "nbformat": 4,
 "nbformat_minor": 2
}
