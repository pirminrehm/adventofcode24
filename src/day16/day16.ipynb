{
 "cells": [
  {
   "cell_type": "code",
   "execution_count": 346,
   "metadata": {
    "collapsed": true
   },
   "outputs": [],
   "source": [
    "import numpy as np\n",
    "import re\n",
    "import heapq\n",
    "from typing import List"
   ]
  },
  {
   "cell_type": "code",
   "execution_count": 347,
   "metadata": {},
   "outputs": [],
   "source": [
    "f = open(\"./input\", \"r\")\n",
    "lines = f.read().strip().splitlines()"
   ]
  },
  {
   "cell_type": "code",
   "execution_count": 348,
   "metadata": {},
   "outputs": [],
   "source": [
    "from operator import add, sub\n",
    "def tsub(a, b):\n",
    "    return tuple(map(sub, a, b))\n",
    "def tadd(a, b):\n",
    "    return tuple(map(add, a, b))\n",
    "def print_grid(g):\n",
    "    print(\"\\n\".join([\"\".join(x) for x in g]), flush=True)"
   ]
  },
  {
   "cell_type": "code",
   "execution_count": 350,
   "metadata": {},
   "outputs": [],
   "source": [
    "NEIGHBOURS = [(0, 1), (0, -1), (1, 0), (-1, 0)]\n",
    "MAZE = np.array([[x for x in l] for l in lines])\n",
    "START = tuple(zip(*np.where(MAZE == \"S\")))[0]\n",
    "END = tuple(zip(*np.where(MAZE == \"E\")))[0]\n",
    "\n",
    "class GridNode:\n",
    "    def __init__(self, position: tuple, direction: tuple, parent=None):\n",
    "        self.direction = direction\n",
    "        self._parent = None\n",
    "        self.value = None\n",
    "        self.position = position\n",
    "        self.parent = parent\n",
    "\n",
    "    @property\n",
    "    def parent(self):\n",
    "        return self._parent\n",
    "\n",
    "    @parent.setter\n",
    "    def parent(self, parent: \"GridNode\"):\n",
    "        self._parent = parent\n",
    "        if not parent:\n",
    "            self.value = 0\n",
    "            return\n",
    "        self.value = parent.value + (1 if parent.direction == self.direction else 1001)\n",
    "\n",
    "    def __eq__(self, other: \"GridNode\"):\n",
    "        if not isinstance(other, GridNode):\n",
    "            raise TypeError(\"not GridNode\")\n",
    "        result = self.position == other.position\n",
    "        return result\n",
    "\n",
    "    def __add__(self, other: \"GridNode\"):\n",
    "        if isinstance(other, GridNode):\n",
    "            return self.position + other.position\n",
    "        return self.position + other\n",
    "\n",
    "    def __lt__(self, other: \"GridNode\"):\n",
    "        return self.value < other.value\n",
    "\n",
    "    def __gt__(self, other: \"GridNode\"):\n",
    "        return self.value > other.value\n",
    "\n",
    "    def __str__(self):\n",
    "        return str(self.position) + \" \" + str(self.direction)\n",
    "\n",
    "    def __repr__(self):\n",
    "        return self.__str__()\n",
    "\n",
    "    def get_directions(self):\n",
    "        if self.direction is None:\n",
    "            raise ValueError(\"node not closed\")\n",
    "        d = []\n",
    "        for n in NEIGHBOURS:\n",
    "            if MAZE[tadd(n, self.position)] == \"#\":\n",
    "                continue\n",
    "            d.append(n)\n",
    "        return d"
   ]
  },
  {
   "cell_type": "code",
   "execution_count": 358,
   "metadata": {},
   "outputs": [
    {
     "name": "stdout",
     "output_type": "stream",
     "text": [
      "65436\n"
     ]
    }
   ],
   "source": [
    "start_node = GridNode(START, (0, 1))\n",
    "open_list: List[GridNode] = []\n",
    "open_list.append(start_node)\n",
    "closed_list: List[GridNode] = []\n",
    "final_path: List[GridNode] = []\n",
    "\n",
    "while len(open_list) > 0:\n",
    "    current_node: GridNode = heapq.heappop(open_list)\n",
    "    closed_list.append(current_node)\n",
    "\n",
    "    if current_node.position == END:\n",
    "        current = current_node\n",
    "        while current is not None:\n",
    "            final_path.append(current)\n",
    "            current = current.parent\n",
    "        final_path.reverse()\n",
    "        break\n",
    "\n",
    "    for direction in current_node.get_directions():\n",
    "        new_position = tadd(current_node.position, direction)\n",
    "        new_node = GridNode(new_position, direction, current_node)\n",
    "\n",
    "        if new_node in closed_list or new_node in open_list:\n",
    "            continue\n",
    "\n",
    "        heapq.heappush(open_list, new_node)\n",
    "\n",
    "print(final_path[-1].value)"
   ]
  },
  {
   "cell_type": "code",
   "execution_count": null,
   "metadata": {},
   "outputs": [
    {
     "name": "stderr",
     "output_type": "stream",
     "text": [
      "100%|██████████| 437/437 [08:19<00:00,  1.14s/it]\n"
     ]
    }
   ],
   "source": [
    "alternate_path = []\n",
    "from tqdm import tqdm\n",
    "for start_node in tqdm(final_path):\n",
    "    open_list: List[GridNode] = []\n",
    "    for dir in start_node.get_directions():\n",
    "        new = GridNode(tadd(dir, start_node.position), dir, start_node)\n",
    "        if new not in final_path:\n",
    "            open_list.append(new)\n",
    "\n",
    "    closed_list: List[GridNode] = []\n",
    "\n",
    "    while len(open_list) > 0:\n",
    "        current_node: GridNode = heapq.heappop(open_list)\n",
    "        closed_list.append(current_node)\n",
    "\n",
    "        if current_node in final_path:\n",
    "            final_path_node_index = final_path.index(current_node)\n",
    "            final_path_node = final_path[final_path_node_index]\n",
    "            # check if n+1 will do turn, if yes add 1000 to value\n",
    "            adjust = (\n",
    "                1000\n",
    "                if len(final_path) > final_path_node_index + 1\n",
    "                and final_path[final_path_node_index + 1].direction is current_node.direction\n",
    "                and final_path_node.direction is not current_node.direction\n",
    "                else 0\n",
    "            )\n",
    "            if current_node.value == final_path_node.value + adjust:\n",
    "                current = current_node\n",
    "                new_alt_path: List[GridNode] = []\n",
    "                while True:\n",
    "                    if current == start_node:\n",
    "                        break\n",
    "                    new_alt_path.append(current)\n",
    "                    current = current.parent\n",
    "                new_alt_path.reverse()\n",
    "                alternate_path.append(new_alt_path)\n",
    "            continue\n",
    "\n",
    "        for direction in current_node.get_directions():\n",
    "            new_position = tadd(current_node.position, direction)\n",
    "            new_node = GridNode(new_position, direction, current_node)\n",
    "            if new_node in closed_list or new_node in open_list:\n",
    "                continue\n",
    "\n",
    "            heapq.heappush(open_list, new_node)"
   ]
  },
  {
   "cell_type": "code",
   "execution_count": 355,
   "metadata": {},
   "outputs": [
    {
     "data": {
      "text/plain": [
       "489"
      ]
     },
     "execution_count": 355,
     "metadata": {},
     "output_type": "execute_result"
    }
   ],
   "source": [
    "best_path_tiles = set([x.position for x in final_path])\n",
    "for a in alternate_path:\n",
    "    for p in a:\n",
    "        best_path_tiles.add(p.position)\n",
    "\n",
    "len(best_path_tiles)"
   ]
  }
 ],
 "metadata": {
  "kernelspec": {
   "display_name": "Python 3",
   "language": "python",
   "name": "python3"
  },
  "language_info": {
   "codemirror_mode": {
    "name": "ipython",
    "version": 3
   },
   "file_extension": ".py",
   "mimetype": "text/x-python",
   "name": "python",
   "nbconvert_exporter": "python",
   "pygments_lexer": "ipython3",
   "version": "3.12.0"
  }
 },
 "nbformat": 4,
 "nbformat_minor": 2
}
