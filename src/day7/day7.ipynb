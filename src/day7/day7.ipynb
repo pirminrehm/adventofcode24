{
 "cells": [
  {
   "cell_type": "code",
   "execution_count": 45,
   "metadata": {
    "collapsed": true
   },
   "outputs": [],
   "source": [
    "import numpy as np\n",
    "import re"
   ]
  },
  {
   "cell_type": "code",
   "execution_count": 46,
   "metadata": {},
   "outputs": [],
   "source": [
    "f = open(\"./input\", \"r\")\n",
    "lines = f.read().strip().splitlines()"
   ]
  },
  {
   "cell_type": "code",
   "execution_count": 48,
   "metadata": {},
   "outputs": [],
   "source": [
    "equations = [[int(x) for x in re.split(r\":\\W|\\W\", l)] for l in lines]"
   ]
  },
  {
   "cell_type": "code",
   "execution_count": 49,
   "metadata": {},
   "outputs": [
    {
     "data": {
      "text/plain": [
       "267566105056"
      ]
     },
     "execution_count": 49,
     "metadata": {},
     "output_type": "execute_result"
    }
   ],
   "source": [
    "from operator import add, mul\n",
    "from itertools import product\n",
    "\n",
    "part1 = 0\n",
    "safe = np.zeros(len(equations))\n",
    "for ei, e in enumerate(equations):\n",
    "    for variation in product([mul, add], repeat=len(e) - 2):\n",
    "        res = e[1]\n",
    "        for i, num in enumerate(e[2::]):\n",
    "            res = variation[i](res, num)\n",
    "        if res == e[0]:\n",
    "            part1 += e[0]\n",
    "            safe[ei] = 1\n",
    "            break\n",
    "part1"
   ]
  },
  {
   "cell_type": "code",
   "execution_count": null,
   "metadata": {},
   "outputs": [
    {
     "data": {
      "text/plain": [
       "116094961956019"
      ]
     },
     "execution_count": 50,
     "metadata": {},
     "output_type": "execute_result"
    }
   ],
   "source": [
    "def comb(a, b):\n",
    "    return int(str(a) + str(b))\n",
    "\n",
    "part2 = 0\n",
    "for ei, e in enumerate(equations):\n",
    "    if safe[ei] == 1:\n",
    "        part2 += e[0]\n",
    "        continue\n",
    "\n",
    "    for variation in product([mul, add, comb], repeat=len(e) - 2):\n",
    "        res = e[1]\n",
    "        for i, num in enumerate(e[2::]):\n",
    "            res = variation[i](res, num)\n",
    "        if res > e[0]:\n",
    "            continue\n",
    "        if res == e[0]:\n",
    "            part2 += e[0]\n",
    "            break\n",
    "part2"
   ]
  }
 ],
 "metadata": {
  "kernelspec": {
   "display_name": "Python 3",
   "language": "python",
   "name": "python3"
  },
  "language_info": {
   "codemirror_mode": {
    "name": "ipython",
    "version": 3
   },
   "file_extension": ".py",
   "mimetype": "text/x-python",
   "name": "python",
   "nbconvert_exporter": "python",
   "pygments_lexer": "ipython3",
   "version": "3.12.0"
  }
 },
 "nbformat": 4,
 "nbformat_minor": 2
}
