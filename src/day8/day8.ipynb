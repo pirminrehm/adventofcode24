{
 "cells": [
  {
   "cell_type": "code",
   "execution_count": 1,
   "metadata": {
    "collapsed": true
   },
   "outputs": [],
   "source": [
    "import numpy as np\n",
    "import re"
   ]
  },
  {
   "cell_type": "code",
   "execution_count": 2,
   "metadata": {},
   "outputs": [],
   "source": [
    "f = open(\"./input\", \"r\")\n",
    "lines = f.read().strip().splitlines()"
   ]
  },
  {
   "cell_type": "code",
   "execution_count": 3,
   "metadata": {},
   "outputs": [],
   "source": [
    "from operator import sub, add\n",
    "def tsub(a,b):\n",
    "    return tuple(map(sub, a, b))\n",
    "def tadd(a,b):\n",
    "    return tuple(map(add, a, b))"
   ]
  },
  {
   "cell_type": "code",
   "execution_count": 4,
   "metadata": {},
   "outputs": [],
   "source": [
    "grid = np.array([[x for x in l] for l in lines])\n",
    "freq = np.unique(grid)\n",
    "freq = freq[freq != \".\"]"
   ]
  },
  {
   "cell_type": "code",
   "execution_count": 5,
   "metadata": {},
   "outputs": [
    {
     "data": {
      "text/plain": [
       "301"
      ]
     },
     "execution_count": 5,
     "metadata": {},
     "output_type": "execute_result"
    }
   ],
   "source": [
    "from itertools import combinations\n",
    "\n",
    "part1 = set()\n",
    "for f in freq:\n",
    "    res = np.where(grid == f)\n",
    "    for c in combinations(list(zip(res[0], res[1])), 2):\n",
    "        d = tsub(*c)\n",
    "        for p in [tadd(c[0], d), tsub(c[1], d)]:\n",
    "            if 0 <= p[0] < grid.shape[0] and 0 <= p[1] < grid.shape[1]:\n",
    "                part1.add(p)\n",
    "len(part1)"
   ]
  },
  {
   "cell_type": "code",
   "execution_count": 6,
   "metadata": {},
   "outputs": [
    {
     "data": {
      "text/plain": [
       "1019"
      ]
     },
     "execution_count": 6,
     "metadata": {},
     "output_type": "execute_result"
    }
   ],
   "source": [
    "part2 = set()\n",
    "for f in freq:\n",
    "    res = np.where(grid == f)\n",
    "    antennas = list(zip(res[0], res[1]))\n",
    "    [part2.add(r) for r in antennas]\n",
    "    for c in combinations(antennas, 2):\n",
    "        d = tsub(*c)\n",
    "        for func, w in [(tadd, c[0]), (tsub, c[1])]:\n",
    "            while True:\n",
    "                w = func(w, d)\n",
    "                if not (0 <= w[0] < grid.shape[0] and 0 <= w[1] < grid.shape[1]):\n",
    "                    break\n",
    "                part2.add(w)\n",
    "\n",
    "len(part2)"
   ]
  }
 ],
 "metadata": {
  "kernelspec": {
   "display_name": "Python 3",
   "language": "python",
   "name": "python3"
  },
  "language_info": {
   "codemirror_mode": {
    "name": "ipython",
    "version": 3
   },
   "file_extension": ".py",
   "mimetype": "text/x-python",
   "name": "python",
   "nbconvert_exporter": "python",
   "pygments_lexer": "ipython3",
   "version": "3.12.0"
  }
 },
 "nbformat": 4,
 "nbformat_minor": 2
}
